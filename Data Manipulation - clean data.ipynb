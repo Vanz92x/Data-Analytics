{
 "cells": [
  {
   "cell_type": "markdown",
   "id": "1f6461bf-3508-45fb-a2d6-9c7d5bb07e45",
   "metadata": {},
   "source": [
    "## Data Cleansing"
   ]
  },
  {
   "cell_type": "markdown",
   "id": "4cd053d7-ef97-4573-b216-808f767d57b1",
   "metadata": {},
   "source": [
    "Data cleaning is a crucial step in the data preprocessing pipeline. It involves identifying and rectifying issues in your dataset to ensure that it’s ready for analysis."
   ]
  },
  {
   "cell_type": "code",
   "execution_count": null,
   "id": "386cf725-c853-4bb2-8822-014ff8da0856",
   "metadata": {},
   "outputs": [],
   "source": [
    "#impor syntax, you need numpy, pandas, matplotlib (for visualization), seaborn\n",
    "\n",
    "import numpy as np\n",
    "import pandas as pd\n",
    "import matplotlib.pyplot as plt\n",
    "%matplotlib inline\n",
    "import seaborn as sns"
   ]
  },
  {
   "cell_type": "code",
   "execution_count": null,
   "id": "3c9c6a95-bf7f-4f13-bb41-ac8863b93795",
   "metadata": {},
   "outputs": [],
   "source": [
    "#load data kpop idol\n",
    "df = pd.read_csv('Train.csv')"
   ]
  },
  {
   "cell_type": "code",
   "execution_count": null,
   "id": "17262f06-27d3-4931-b01a-7799f4c36c12",
   "metadata": {},
   "outputs": [],
   "source": [
    "df.head(5)"
   ]
  },
  {
   "cell_type": "code",
   "execution_count": null,
   "id": "0bb0c24b-9870-47ab-ba0b-0f0feccaaeea",
   "metadata": {},
   "outputs": [],
   "source": [
    "df.info()"
   ]
  },
  {
   "cell_type": "markdown",
   "id": "883c7a41-70fa-4b7d-8a08-b80c59fb250e",
   "metadata": {},
   "source": [
    "# Common Data Cleaning Tasks in Python:"
   ]
  },
  {
   "cell_type": "markdown",
   "id": "dbe5eeaf-b5a5-4802-904f-89b04b8e1a05",
   "metadata": {},
   "source": [
    "### 1. Handling Missing Values\r\n",
    "Incomplete data sets frequently contain missing values, posing a challenge for analysis. Techniques like imputation, which involves filling missing values with estimates, or dropping rows/columns with significant missing data are commonly employed to handle this issue. These methods help ensure that the dataset remains usable and provides reliable insights."
   ]
  },
  {
   "cell_type": "markdown",
   "id": "35fb4a45-80e7-443c-b09f-a222a6fd7aff",
   "metadata": {},
   "source": [
    "- We will handle missing values in the column \"Var_1\" through imputation."
   ]
  },
  {
   "cell_type": "markdown",
   "id": "4fcdda35-c5cc-4eed-80a8-572adc2ceb73",
   "metadata": {},
   "source": [
    "Imputation is replace missing values with a statistical measure such as mean, median, or mode of the column."
   ]
  },
  {
   "cell_type": "code",
   "execution_count": null,
   "id": "46de496b-9543-4321-b260-e5d438162761",
   "metadata": {},
   "outputs": [],
   "source": [
    "# count the occurrences of each unique value in the 'Var_1' column\n",
    "\n",
    "df['Var_1'].value_counts()"
   ]
  },
  {
   "cell_type": "code",
   "execution_count": null,
   "id": "10651ce4-4a69-43aa-974c-57c0f8dea8a2",
   "metadata": {},
   "outputs": [],
   "source": [
    "# count the number of missing (NaN) values\n",
    "\n",
    "df['Var_1'].isna().sum()"
   ]
  },
  {
   "cell_type": "code",
   "execution_count": null,
   "id": "5676bd7b-ddf6-485e-971a-c782d16079ea",
   "metadata": {},
   "outputs": [],
   "source": [
    "# replaces all NaN values in the 'Var_1' column with the calculated mode value.\n",
    "\n",
    "val = df['Var_1'].mode().values[0]\n",
    "\n",
    "df['Var_1'] = df['Var_1'].fillna(val)"
   ]
  },
  {
   "cell_type": "code",
   "execution_count": null,
   "id": "ea5f6fda-42dd-41d3-a479-a2dcb7c7f465",
   "metadata": {},
   "outputs": [],
   "source": [
    "# the result\n",
    "\n",
    "df['Var_1'].value_counts()"
   ]
  },
  {
   "cell_type": "markdown",
   "id": "0fea7410-bb6e-4b98-ae86-862247fc520b",
   "metadata": {},
   "source": [
    "This method of imputation is useful for categorical or discrete data where replacing missing values with the most common value can preserve the distribution of the data to some extent."
   ]
  },
  {
   "cell_type": "markdown",
   "id": "093bf65e-05f4-45c8-b03e-5dd80eae7278",
   "metadata": {},
   "source": [
    "- We will handle missing values in the column \"Work_Experience\" through imputation."
   ]
  },
  {
   "cell_type": "code",
   "execution_count": null,
   "id": "342d38b1-eb8f-4fcb-b5ff-eface487b0a1",
   "metadata": {},
   "outputs": [],
   "source": [
    "# we'll fillna Height\n",
    "# first we can check the shape\n",
    "\n",
    "df.shape[0]"
   ]
  },
  {
   "cell_type": "code",
   "execution_count": null,
   "id": "9392be23-24b2-4c49-aba9-d0af39b4cb64",
   "metadata": {},
   "outputs": [],
   "source": [
    "df['Work_Experience'].isna().sum()"
   ]
  },
  {
   "cell_type": "code",
   "execution_count": null,
   "id": "dfedd7f7-0030-4cf1-a0e8-102618f81273",
   "metadata": {},
   "outputs": [],
   "source": [
    "df['Work_Experience'].isna().sum()/df.shape[0]"
   ]
  },
  {
   "cell_type": "code",
   "execution_count": null,
   "id": "6e00c0a2-ff0a-4282-9d0e-9a12291d8e6a",
   "metadata": {},
   "outputs": [],
   "source": [
    "# the unique is not that far, so we can fill the NaN\n",
    "\n",
    "df.Work_Experience.nunique()"
   ]
  },
  {
   "cell_type": "code",
   "execution_count": null,
   "id": "c63ca5e9-993f-4690-8f2a-97cfc107c3a4",
   "metadata": {},
   "outputs": [],
   "source": [
    "# show the chart visual\n",
    "df.Work_Experience.plot(kind='hist');"
   ]
  },
  {
   "cell_type": "markdown",
   "id": "f959d00c-1da7-4185-b3ae-6dc03a997e9c",
   "metadata": {},
   "source": [
    "from the visual this chart is negative skewnes"
   ]
  },
  {
   "cell_type": "code",
   "execution_count": null,
   "id": "d918fb06-8655-4f78-aec2-454aee1ac9fe",
   "metadata": {},
   "outputs": [],
   "source": [
    "# fillna\n",
    "# if negative or positive skewness we can used median, buf if it normal skewnes you can used mode\n",
    "\n",
    "val = df.Work_Experience.median()\n",
    "df['Work_Experience'] = df.Work_Experience.fillna(val)"
   ]
  },
  {
   "cell_type": "code",
   "execution_count": null,
   "id": "f7721499-07ca-456e-b751-c41fdd79e6bd",
   "metadata": {},
   "outputs": [],
   "source": [
    "# check the info\n",
    "df.info()"
   ]
  },
  {
   "cell_type": "code",
   "execution_count": null,
   "id": "81657990-ff76-4292-8697-db3aa3dba87c",
   "metadata": {},
   "outputs": [],
   "source": [
    "# check the chart againt\n",
    "df.Work_Experience.plot(kind='hist');"
   ]
  },
  {
   "cell_type": "markdown",
   "id": "8b0a519e-fd1e-49fb-baba-7630bed47a96",
   "metadata": {},
   "source": [
    "- We will handle missing values in the column \"Graduated\" through imputation."
   ]
  },
  {
   "cell_type": "code",
   "execution_count": null,
   "id": "c7434ffe-2f96-40d6-88e7-a3ecd07b015f",
   "metadata": {},
   "outputs": [],
   "source": [
    "df['Graduated'].value_counts()"
   ]
  },
  {
   "cell_type": "code",
   "execution_count": null,
   "id": "70fe470e-07da-4c2c-93c3-5bca3d04ca78",
   "metadata": {},
   "outputs": [],
   "source": [
    "val = df['Graduated'].mode().values[0]\n",
    "\n",
    "df['Graduated'] = df['Graduated'].fillna(val)"
   ]
  },
  {
   "cell_type": "code",
   "execution_count": null,
   "id": "d0a518c3-5a7e-4418-830f-7c1ac0cf979c",
   "metadata": {},
   "outputs": [],
   "source": [
    "# the result\n",
    "\n",
    "df['Graduated'].value_counts()"
   ]
  },
  {
   "cell_type": "markdown",
   "id": "72202550-026b-448b-9f2d-445d13d7bd7a",
   "metadata": {},
   "source": [
    "- Filling Missing Data in the column 'Profession' with 'Unknown'"
   ]
  },
  {
   "cell_type": "code",
   "execution_count": null,
   "id": "c13dbcb4-841c-42e1-a1e4-f089cbce2deb",
   "metadata": {},
   "outputs": [],
   "source": [
    "df['Profession'].fillna('unknown', inplace=True)"
   ]
  },
  {
   "cell_type": "markdown",
   "id": "8d2d9bd9-e525-4dd9-b7a4-5e4311e92b73",
   "metadata": {},
   "source": [
    "- Filling Missing Data in the column 'Ever_Married' with 'Unknown'"
   ]
  },
  {
   "cell_type": "code",
   "execution_count": null,
   "id": "0d137c6a-8db1-4c59-98e0-4df6158f03ec",
   "metadata": {},
   "outputs": [],
   "source": [
    "df['Ever_Married'].fillna('unknown', inplace=True)"
   ]
  },
  {
   "cell_type": "markdown",
   "id": "1d258db8-0e99-433d-bf75-fe14111ed606",
   "metadata": {},
   "source": [
    "- Filling Missing Data in the column 'Family_Size' with 'Unknown'"
   ]
  },
  {
   "cell_type": "code",
   "execution_count": null,
   "id": "34ac1ec6-dc12-41a7-a0bc-48ba6404a2dc",
   "metadata": {},
   "outputs": [],
   "source": [
    "df['Family_Size'].fillna('unknown', inplace=True)"
   ]
  },
  {
   "cell_type": "code",
   "execution_count": null,
   "id": "95b82ba5-0226-4dfc-b09d-e340e7a04a0c",
   "metadata": {},
   "outputs": [],
   "source": [
    "df.info()"
   ]
  }
 ],
 "metadata": {
  "kernelspec": {
   "display_name": "Python 3 (ipykernel)",
   "language": "python",
   "name": "python3"
  },
  "language_info": {
   "codemirror_mode": {
    "name": "ipython",
    "version": 3
   },
   "file_extension": ".py",
   "mimetype": "text/x-python",
   "name": "python",
   "nbconvert_exporter": "python",
   "pygments_lexer": "ipython3",
   "version": "3.11.7"
  }
 },
 "nbformat": 4,
 "nbformat_minor": 5
}
